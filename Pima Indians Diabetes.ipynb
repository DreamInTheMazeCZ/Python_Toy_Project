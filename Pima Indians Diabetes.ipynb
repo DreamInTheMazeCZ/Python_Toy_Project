{
 "cells": [
  {
   "cell_type": "markdown",
   "id": "9082c16f",
   "metadata": {
    "papermill": {
     "duration": 0.030139,
     "end_time": "2022-05-30T17:18:49.501311",
     "exception": false,
     "start_time": "2022-05-30T17:18:49.471172",
     "status": "completed"
    },
    "tags": []
   },
   "source": [
    "## 당뇨병 여부 판단\n",
    "- 이상치 처리 (Glucose, BloodPressure, SkinThickness, Insulin, BMI가 0인 값)"
   ]
  },
  {
   "cell_type": "markdown",
   "id": "d2369cfa",
   "metadata": {
    "papermill": {
     "duration": 0.026019,
     "end_time": "2022-05-30T17:18:49.554206",
     "exception": false,
     "start_time": "2022-05-30T17:18:49.528187",
     "status": "completed"
    },
    "tags": []
   },
   "source": [
    "## [참고]작업형2 문구\n",
    "- 출력을 원하실 경우 print() 함수 활용\n",
    "- 예시) print(df.head())\n",
    "- getcwd(), chdir() 등 작업 폴더 설정 불필요\n",
    "- 파일 경로 상 내부 드라이브 경로(C: 등) 접근 불가\n",
    "\n",
    "### 데이터 파일 읽기 예제\n",
    "- import pandas as pd\n",
    "- X_test = pd.read_csv(\"data/X_test.csv\")\n",
    "- X_train = pd.read_csv(\"data/X_train.csv\")\n",
    "- y_train = pd.read_csv(\"data/y_train.csv\")\n",
    "\n",
    "### 사용자 코딩\n",
    "\n",
    "### 답안 제출 참고\n",
    "- 아래 코드 예측변수와 수험번호를 개인별로 변경하여 활용\n",
    "- pd.DataFrame({'cust_id': X_test.cust_id, 'gender': pred}).to_csv('003000000.csv', index=False)"
   ]
  },
  {
   "cell_type": "code",
   "execution_count": 1,
   "id": "6181b6fa",
   "metadata": {
    "_cell_guid": "b1076dfc-b9ad-4769-8c92-a6c4dae69d19",
    "_uuid": "8f2839f25d086af736a60e9eeb907d3b93b6e0e5",
    "execution": {
     "iopub.execute_input": "2022-05-30T17:18:49.623100Z",
     "iopub.status.busy": "2022-05-30T17:18:49.622345Z",
     "iopub.status.idle": "2022-05-30T17:18:50.628997Z",
     "shell.execute_reply": "2022-05-30T17:18:50.629526Z",
     "shell.execute_reply.started": "2022-05-30T17:17:23.934497Z"
    },
    "papermill": {
     "duration": 1.049086,
     "end_time": "2022-05-30T17:18:50.629804",
     "exception": false,
     "start_time": "2022-05-30T17:18:49.580718",
     "status": "completed"
    },
    "tags": []
   },
   "outputs": [
    {
     "data": {
      "text/plain": [
       "((614, 9), (154, 9), (614, 2), (154, 2))"
      ]
     },
     "execution_count": 1,
     "metadata": {},
     "output_type": "execute_result"
    }
   ],
   "source": [
    "# 시험환경 세팅 (코드 변경 X)\n",
    "import pandas as pd\n",
    "import numpy as np\n",
    "from sklearn.model_selection import train_test_split\n",
    "\n",
    "def exam_data_load(df, target, id_name=\"\", null_name=\"\"):\n",
    "    if id_name == \"\":\n",
    "        df = df.reset_index().rename(columns={\"index\": \"id\"})\n",
    "        id_name = 'id'\n",
    "    else:\n",
    "        id_name = id_name\n",
    "    \n",
    "    if null_name != \"\":\n",
    "        df[df == null_name] = np.nan\n",
    "    \n",
    "    X_train, X_test = train_test_split(df, test_size=0.2, random_state=2021)\n",
    "    \n",
    "    y_train = X_train[[id_name, target]]\n",
    "    X_train = X_train.drop(columns=[target])\n",
    "\n",
    "    \n",
    "    y_test = X_test[[id_name, target]]\n",
    "    X_test = X_test.drop(columns=[target])\n",
    "    return X_train, X_test, y_train, y_test \n",
    "    \n",
    "df = pd.read_csv(\"../input/pima-indians-diabetes-database/diabetes.csv\")\n",
    "X_train, X_test, y_train, y_test = exam_data_load(df, target='Outcome')\n",
    "\n",
    "X_train.shape, X_test.shape, y_train.shape, y_test.shape"
   ]
  },
  {
   "cell_type": "markdown",
   "id": "ab47f2d6",
   "metadata": {
    "papermill": {
     "duration": 0.026141,
     "end_time": "2022-05-30T17:18:50.682446",
     "exception": false,
     "start_time": "2022-05-30T17:18:50.656305",
     "status": "completed"
    },
    "tags": []
   },
   "source": [
    "## Start"
   ]
  },
  {
   "cell_type": "markdown",
   "id": "a850f621",
   "metadata": {
    "papermill": {
     "duration": 0.025793,
     "end_time": "2022-05-30T17:18:50.734537",
     "exception": false,
     "start_time": "2022-05-30T17:18:50.708744",
     "status": "completed"
    },
    "tags": []
   },
   "source": [
    "## 라이브러리 및 데이터 불러오기"
   ]
  },
  {
   "cell_type": "code",
   "execution_count": 2,
   "id": "75fed0c0",
   "metadata": {
    "execution": {
     "iopub.execute_input": "2022-05-30T17:18:50.792408Z",
     "iopub.status.busy": "2022-05-30T17:18:50.791321Z",
     "iopub.status.idle": "2022-05-30T17:18:50.794853Z",
     "shell.execute_reply": "2022-05-30T17:18:50.795599Z",
     "shell.execute_reply.started": "2022-05-30T17:17:23.959446Z"
    },
    "papermill": {
     "duration": 0.034935,
     "end_time": "2022-05-30T17:18:50.795867",
     "exception": false,
     "start_time": "2022-05-30T17:18:50.760932",
     "status": "completed"
    },
    "tags": []
   },
   "outputs": [],
   "source": [
    "# 라이브러리\n",
    "import pandas as pd"
   ]
  },
  {
   "cell_type": "code",
   "execution_count": 3,
   "id": "441f649c",
   "metadata": {
    "execution": {
     "iopub.execute_input": "2022-05-30T17:18:50.853411Z",
     "iopub.status.busy": "2022-05-30T17:18:50.852384Z",
     "iopub.status.idle": "2022-05-30T17:18:50.858073Z",
     "shell.execute_reply": "2022-05-30T17:18:50.858624Z",
     "shell.execute_reply.started": "2022-05-30T17:17:23.992500Z"
    },
    "papermill": {
     "duration": 0.035774,
     "end_time": "2022-05-30T17:18:50.858796",
     "exception": false,
     "start_time": "2022-05-30T17:18:50.823022",
     "status": "completed"
    },
    "tags": []
   },
   "outputs": [
    {
     "data": {
      "text/plain": [
       "((614, 9), (614, 2), (154, 9))"
      ]
     },
     "execution_count": 3,
     "metadata": {},
     "output_type": "execute_result"
    }
   ],
   "source": [
    "# 데이터 불러오기 (생략)\n",
    "X_train.shape, y_train.shape, X_test.shape"
   ]
  },
  {
   "cell_type": "markdown",
   "id": "c9b3296a",
   "metadata": {
    "papermill": {
     "duration": 0.025943,
     "end_time": "2022-05-30T17:18:50.911191",
     "exception": false,
     "start_time": "2022-05-30T17:18:50.885248",
     "status": "completed"
    },
    "tags": []
   },
   "source": [
    "## EDA"
   ]
  },
  {
   "cell_type": "code",
   "execution_count": 4,
   "id": "8932b203",
   "metadata": {
    "execution": {
     "iopub.execute_input": "2022-05-30T17:18:50.968237Z",
     "iopub.status.busy": "2022-05-30T17:18:50.967208Z",
     "iopub.status.idle": "2022-05-30T17:18:50.984603Z",
     "shell.execute_reply": "2022-05-30T17:18:50.985169Z",
     "shell.execute_reply.started": "2022-05-30T17:17:24.041597Z"
    },
    "papermill": {
     "duration": 0.047737,
     "end_time": "2022-05-30T17:18:50.985345",
     "exception": false,
     "start_time": "2022-05-30T17:18:50.937608",
     "status": "completed"
    },
    "tags": []
   },
   "outputs": [
    {
     "data": {
      "text/html": [
       "<div>\n",
       "<style scoped>\n",
       "    .dataframe tbody tr th:only-of-type {\n",
       "        vertical-align: middle;\n",
       "    }\n",
       "\n",
       "    .dataframe tbody tr th {\n",
       "        vertical-align: top;\n",
       "    }\n",
       "\n",
       "    .dataframe thead th {\n",
       "        text-align: right;\n",
       "    }\n",
       "</style>\n",
       "<table border=\"1\" class=\"dataframe\">\n",
       "  <thead>\n",
       "    <tr style=\"text-align: right;\">\n",
       "      <th></th>\n",
       "      <th>id</th>\n",
       "      <th>Pregnancies</th>\n",
       "      <th>Glucose</th>\n",
       "      <th>BloodPressure</th>\n",
       "      <th>SkinThickness</th>\n",
       "      <th>Insulin</th>\n",
       "      <th>BMI</th>\n",
       "      <th>DiabetesPedigreeFunction</th>\n",
       "      <th>Age</th>\n",
       "    </tr>\n",
       "  </thead>\n",
       "  <tbody>\n",
       "    <tr>\n",
       "      <th>147</th>\n",
       "      <td>147</td>\n",
       "      <td>2</td>\n",
       "      <td>106</td>\n",
       "      <td>64</td>\n",
       "      <td>35</td>\n",
       "      <td>119</td>\n",
       "      <td>30.5</td>\n",
       "      <td>1.400</td>\n",
       "      <td>34</td>\n",
       "    </tr>\n",
       "    <tr>\n",
       "      <th>344</th>\n",
       "      <td>344</td>\n",
       "      <td>8</td>\n",
       "      <td>95</td>\n",
       "      <td>72</td>\n",
       "      <td>0</td>\n",
       "      <td>0</td>\n",
       "      <td>36.8</td>\n",
       "      <td>0.485</td>\n",
       "      <td>57</td>\n",
       "    </tr>\n",
       "    <tr>\n",
       "      <th>390</th>\n",
       "      <td>390</td>\n",
       "      <td>1</td>\n",
       "      <td>100</td>\n",
       "      <td>66</td>\n",
       "      <td>29</td>\n",
       "      <td>196</td>\n",
       "      <td>32.0</td>\n",
       "      <td>0.444</td>\n",
       "      <td>42</td>\n",
       "    </tr>\n",
       "    <tr>\n",
       "      <th>150</th>\n",
       "      <td>150</td>\n",
       "      <td>1</td>\n",
       "      <td>136</td>\n",
       "      <td>74</td>\n",
       "      <td>50</td>\n",
       "      <td>204</td>\n",
       "      <td>37.4</td>\n",
       "      <td>0.399</td>\n",
       "      <td>24</td>\n",
       "    </tr>\n",
       "    <tr>\n",
       "      <th>132</th>\n",
       "      <td>132</td>\n",
       "      <td>3</td>\n",
       "      <td>170</td>\n",
       "      <td>64</td>\n",
       "      <td>37</td>\n",
       "      <td>225</td>\n",
       "      <td>34.5</td>\n",
       "      <td>0.356</td>\n",
       "      <td>30</td>\n",
       "    </tr>\n",
       "  </tbody>\n",
       "</table>\n",
       "</div>"
      ],
      "text/plain": [
       "      id  Pregnancies  Glucose  BloodPressure  SkinThickness  Insulin   BMI  \\\n",
       "147  147            2      106             64             35      119  30.5   \n",
       "344  344            8       95             72              0        0  36.8   \n",
       "390  390            1      100             66             29      196  32.0   \n",
       "150  150            1      136             74             50      204  37.4   \n",
       "132  132            3      170             64             37      225  34.5   \n",
       "\n",
       "     DiabetesPedigreeFunction  Age  \n",
       "147                     1.400   34  \n",
       "344                     0.485   57  \n",
       "390                     0.444   42  \n",
       "150                     0.399   24  \n",
       "132                     0.356   30  "
      ]
     },
     "execution_count": 4,
     "metadata": {},
     "output_type": "execute_result"
    }
   ],
   "source": [
    "X_train.head()"
   ]
  },
  {
   "cell_type": "code",
   "execution_count": 5,
   "id": "e6f4d712",
   "metadata": {
    "execution": {
     "iopub.execute_input": "2022-05-30T17:18:51.044052Z",
     "iopub.status.busy": "2022-05-30T17:18:51.043038Z",
     "iopub.status.idle": "2022-05-30T17:18:51.051868Z",
     "shell.execute_reply": "2022-05-30T17:18:51.052411Z",
     "shell.execute_reply.started": "2022-05-30T17:17:24.111997Z"
    },
    "papermill": {
     "duration": 0.039637,
     "end_time": "2022-05-30T17:18:51.052591",
     "exception": false,
     "start_time": "2022-05-30T17:18:51.012954",
     "status": "completed"
    },
    "tags": []
   },
   "outputs": [
    {
     "data": {
      "text/html": [
       "<div>\n",
       "<style scoped>\n",
       "    .dataframe tbody tr th:only-of-type {\n",
       "        vertical-align: middle;\n",
       "    }\n",
       "\n",
       "    .dataframe tbody tr th {\n",
       "        vertical-align: top;\n",
       "    }\n",
       "\n",
       "    .dataframe thead th {\n",
       "        text-align: right;\n",
       "    }\n",
       "</style>\n",
       "<table border=\"1\" class=\"dataframe\">\n",
       "  <thead>\n",
       "    <tr style=\"text-align: right;\">\n",
       "      <th></th>\n",
       "      <th>id</th>\n",
       "      <th>Outcome</th>\n",
       "    </tr>\n",
       "  </thead>\n",
       "  <tbody>\n",
       "    <tr>\n",
       "      <th>147</th>\n",
       "      <td>147</td>\n",
       "      <td>0</td>\n",
       "    </tr>\n",
       "    <tr>\n",
       "      <th>344</th>\n",
       "      <td>344</td>\n",
       "      <td>0</td>\n",
       "    </tr>\n",
       "    <tr>\n",
       "      <th>390</th>\n",
       "      <td>390</td>\n",
       "      <td>0</td>\n",
       "    </tr>\n",
       "    <tr>\n",
       "      <th>150</th>\n",
       "      <td>150</td>\n",
       "      <td>0</td>\n",
       "    </tr>\n",
       "    <tr>\n",
       "      <th>132</th>\n",
       "      <td>132</td>\n",
       "      <td>1</td>\n",
       "    </tr>\n",
       "  </tbody>\n",
       "</table>\n",
       "</div>"
      ],
      "text/plain": [
       "      id  Outcome\n",
       "147  147        0\n",
       "344  344        0\n",
       "390  390        0\n",
       "150  150        0\n",
       "132  132        1"
      ]
     },
     "execution_count": 5,
     "metadata": {},
     "output_type": "execute_result"
    }
   ],
   "source": [
    "y_train.head()"
   ]
  },
  {
   "cell_type": "code",
   "execution_count": 6,
   "id": "981bde7f",
   "metadata": {
    "execution": {
     "iopub.execute_input": "2022-05-30T17:18:51.111342Z",
     "iopub.status.busy": "2022-05-30T17:18:51.110288Z",
     "iopub.status.idle": "2022-05-30T17:18:51.133441Z",
     "shell.execute_reply": "2022-05-30T17:18:51.132699Z",
     "shell.execute_reply.started": "2022-05-30T17:17:24.130807Z"
    },
    "papermill": {
     "duration": 0.053579,
     "end_time": "2022-05-30T17:18:51.133587",
     "exception": false,
     "start_time": "2022-05-30T17:18:51.080008",
     "status": "completed"
    },
    "tags": []
   },
   "outputs": [
    {
     "name": "stdout",
     "output_type": "stream",
     "text": [
      "<class 'pandas.core.frame.DataFrame'>\n",
      "Int64Index: 614 entries, 147 to 116\n",
      "Data columns (total 9 columns):\n",
      " #   Column                    Non-Null Count  Dtype  \n",
      "---  ------                    --------------  -----  \n",
      " 0   id                        614 non-null    int64  \n",
      " 1   Pregnancies               614 non-null    int64  \n",
      " 2   Glucose                   614 non-null    int64  \n",
      " 3   BloodPressure             614 non-null    int64  \n",
      " 4   SkinThickness             614 non-null    int64  \n",
      " 5   Insulin                   614 non-null    int64  \n",
      " 6   BMI                       614 non-null    float64\n",
      " 7   DiabetesPedigreeFunction  614 non-null    float64\n",
      " 8   Age                       614 non-null    int64  \n",
      "dtypes: float64(2), int64(7)\n",
      "memory usage: 48.0 KB\n"
     ]
    }
   ],
   "source": [
    "X_train.info()"
   ]
  },
  {
   "cell_type": "code",
   "execution_count": 7,
   "id": "dc52ca59",
   "metadata": {
    "execution": {
     "iopub.execute_input": "2022-05-30T17:18:51.201062Z",
     "iopub.status.busy": "2022-05-30T17:18:51.200265Z",
     "iopub.status.idle": "2022-05-30T17:18:51.203232Z",
     "shell.execute_reply": "2022-05-30T17:18:51.203741Z",
     "shell.execute_reply.started": "2022-05-30T17:17:24.181314Z"
    },
    "papermill": {
     "duration": 0.042289,
     "end_time": "2022-05-30T17:18:51.203949",
     "exception": false,
     "start_time": "2022-05-30T17:18:51.161660",
     "status": "completed"
    },
    "tags": []
   },
   "outputs": [
    {
     "name": "stdout",
     "output_type": "stream",
     "text": [
      "<class 'pandas.core.frame.DataFrame'>\n",
      "Int64Index: 614 entries, 147 to 116\n",
      "Data columns (total 2 columns):\n",
      " #   Column   Non-Null Count  Dtype\n",
      "---  ------   --------------  -----\n",
      " 0   id       614 non-null    int64\n",
      " 1   Outcome  614 non-null    int64\n",
      "dtypes: int64(2)\n",
      "memory usage: 14.4 KB\n"
     ]
    }
   ],
   "source": [
    "y_train.info()"
   ]
  },
  {
   "cell_type": "code",
   "execution_count": 8,
   "id": "7e6b91c6",
   "metadata": {
    "execution": {
     "iopub.execute_input": "2022-05-30T17:18:51.269643Z",
     "iopub.status.busy": "2022-05-30T17:18:51.268834Z",
     "iopub.status.idle": "2022-05-30T17:18:51.272067Z",
     "shell.execute_reply": "2022-05-30T17:18:51.272571Z",
     "shell.execute_reply.started": "2022-05-30T17:17:24.221810Z"
    },
    "papermill": {
     "duration": 0.040751,
     "end_time": "2022-05-30T17:18:51.272746",
     "exception": false,
     "start_time": "2022-05-30T17:18:51.231995",
     "status": "completed"
    },
    "tags": []
   },
   "outputs": [
    {
     "data": {
      "text/plain": [
       "id                          0\n",
       "Pregnancies                 0\n",
       "Glucose                     0\n",
       "BloodPressure               0\n",
       "SkinThickness               0\n",
       "Insulin                     0\n",
       "BMI                         0\n",
       "DiabetesPedigreeFunction    0\n",
       "Age                         0\n",
       "dtype: int64"
      ]
     },
     "execution_count": 8,
     "metadata": {},
     "output_type": "execute_result"
    }
   ],
   "source": [
    "X_train.isnull().sum()"
   ]
  },
  {
   "cell_type": "code",
   "execution_count": 9,
   "id": "3b47b224",
   "metadata": {
    "execution": {
     "iopub.execute_input": "2022-05-30T17:18:51.333869Z",
     "iopub.status.busy": "2022-05-30T17:18:51.332883Z",
     "iopub.status.idle": "2022-05-30T17:18:51.340038Z",
     "shell.execute_reply": "2022-05-30T17:18:51.340505Z",
     "shell.execute_reply.started": "2022-05-30T17:17:24.270000Z"
    },
    "papermill": {
     "duration": 0.039374,
     "end_time": "2022-05-30T17:18:51.340682",
     "exception": false,
     "start_time": "2022-05-30T17:18:51.301308",
     "status": "completed"
    },
    "tags": []
   },
   "outputs": [
    {
     "data": {
      "text/plain": [
       "id         0\n",
       "Outcome    0\n",
       "dtype: int64"
      ]
     },
     "execution_count": 9,
     "metadata": {},
     "output_type": "execute_result"
    }
   ],
   "source": [
    "y_test.isnull().sum()"
   ]
  },
  {
   "cell_type": "code",
   "execution_count": 10,
   "id": "22504a5b",
   "metadata": {
    "execution": {
     "iopub.execute_input": "2022-05-30T17:18:51.403233Z",
     "iopub.status.busy": "2022-05-30T17:18:51.402048Z",
     "iopub.status.idle": "2022-05-30T17:18:51.410035Z",
     "shell.execute_reply": "2022-05-30T17:18:51.410505Z",
     "shell.execute_reply.started": "2022-05-30T17:17:24.291340Z"
    },
    "papermill": {
     "duration": 0.040648,
     "end_time": "2022-05-30T17:18:51.410680",
     "exception": false,
     "start_time": "2022-05-30T17:18:51.370032",
     "status": "completed"
    },
    "tags": []
   },
   "outputs": [
    {
     "data": {
      "text/plain": [
       "id                          0\n",
       "Pregnancies                 0\n",
       "Glucose                     0\n",
       "BloodPressure               0\n",
       "SkinThickness               0\n",
       "Insulin                     0\n",
       "BMI                         0\n",
       "DiabetesPedigreeFunction    0\n",
       "Age                         0\n",
       "dtype: int64"
      ]
     },
     "execution_count": 10,
     "metadata": {},
     "output_type": "execute_result"
    }
   ],
   "source": [
    "X_test.isnull().sum()"
   ]
  },
  {
   "cell_type": "code",
   "execution_count": 11,
   "id": "98390f5f",
   "metadata": {
    "execution": {
     "iopub.execute_input": "2022-05-30T17:18:51.472629Z",
     "iopub.status.busy": "2022-05-30T17:18:51.471656Z",
     "iopub.status.idle": "2022-05-30T17:18:51.507428Z",
     "shell.execute_reply": "2022-05-30T17:18:51.508003Z",
     "shell.execute_reply.started": "2022-05-30T17:17:24.351282Z"
    },
    "papermill": {
     "duration": 0.068607,
     "end_time": "2022-05-30T17:18:51.508178",
     "exception": false,
     "start_time": "2022-05-30T17:18:51.439571",
     "status": "completed"
    },
    "tags": []
   },
   "outputs": [
    {
     "data": {
      "text/html": [
       "<div>\n",
       "<style scoped>\n",
       "    .dataframe tbody tr th:only-of-type {\n",
       "        vertical-align: middle;\n",
       "    }\n",
       "\n",
       "    .dataframe tbody tr th {\n",
       "        vertical-align: top;\n",
       "    }\n",
       "\n",
       "    .dataframe thead th {\n",
       "        text-align: right;\n",
       "    }\n",
       "</style>\n",
       "<table border=\"1\" class=\"dataframe\">\n",
       "  <thead>\n",
       "    <tr style=\"text-align: right;\">\n",
       "      <th></th>\n",
       "      <th>id</th>\n",
       "      <th>Pregnancies</th>\n",
       "      <th>Glucose</th>\n",
       "      <th>BloodPressure</th>\n",
       "      <th>SkinThickness</th>\n",
       "      <th>Insulin</th>\n",
       "      <th>BMI</th>\n",
       "      <th>DiabetesPedigreeFunction</th>\n",
       "      <th>Age</th>\n",
       "    </tr>\n",
       "  </thead>\n",
       "  <tbody>\n",
       "    <tr>\n",
       "      <th>count</th>\n",
       "      <td>614.000000</td>\n",
       "      <td>614.000000</td>\n",
       "      <td>614.000000</td>\n",
       "      <td>614.000000</td>\n",
       "      <td>614.000000</td>\n",
       "      <td>614.000000</td>\n",
       "      <td>614.000000</td>\n",
       "      <td>614.000000</td>\n",
       "      <td>614.000000</td>\n",
       "    </tr>\n",
       "    <tr>\n",
       "      <th>mean</th>\n",
       "      <td>386.978827</td>\n",
       "      <td>3.845277</td>\n",
       "      <td>120.705212</td>\n",
       "      <td>68.530945</td>\n",
       "      <td>20.982085</td>\n",
       "      <td>82.229642</td>\n",
       "      <td>31.948534</td>\n",
       "      <td>0.477471</td>\n",
       "      <td>33.319218</td>\n",
       "    </tr>\n",
       "    <tr>\n",
       "      <th>std</th>\n",
       "      <td>219.881344</td>\n",
       "      <td>3.388952</td>\n",
       "      <td>32.047977</td>\n",
       "      <td>19.761915</td>\n",
       "      <td>15.965031</td>\n",
       "      <td>116.525772</td>\n",
       "      <td>7.734385</td>\n",
       "      <td>0.339811</td>\n",
       "      <td>11.940953</td>\n",
       "    </tr>\n",
       "    <tr>\n",
       "      <th>min</th>\n",
       "      <td>0.000000</td>\n",
       "      <td>0.000000</td>\n",
       "      <td>0.000000</td>\n",
       "      <td>0.000000</td>\n",
       "      <td>0.000000</td>\n",
       "      <td>0.000000</td>\n",
       "      <td>0.000000</td>\n",
       "      <td>0.078000</td>\n",
       "      <td>21.000000</td>\n",
       "    </tr>\n",
       "    <tr>\n",
       "      <th>25%</th>\n",
       "      <td>196.500000</td>\n",
       "      <td>1.000000</td>\n",
       "      <td>99.000000</td>\n",
       "      <td>62.000000</td>\n",
       "      <td>0.000000</td>\n",
       "      <td>0.000000</td>\n",
       "      <td>27.400000</td>\n",
       "      <td>0.244250</td>\n",
       "      <td>24.000000</td>\n",
       "    </tr>\n",
       "    <tr>\n",
       "      <th>50%</th>\n",
       "      <td>388.000000</td>\n",
       "      <td>3.000000</td>\n",
       "      <td>117.000000</td>\n",
       "      <td>72.000000</td>\n",
       "      <td>23.000000</td>\n",
       "      <td>44.000000</td>\n",
       "      <td>32.250000</td>\n",
       "      <td>0.377000</td>\n",
       "      <td>29.000000</td>\n",
       "    </tr>\n",
       "    <tr>\n",
       "      <th>75%</th>\n",
       "      <td>575.750000</td>\n",
       "      <td>6.000000</td>\n",
       "      <td>140.000000</td>\n",
       "      <td>80.000000</td>\n",
       "      <td>33.000000</td>\n",
       "      <td>130.000000</td>\n",
       "      <td>36.600000</td>\n",
       "      <td>0.628500</td>\n",
       "      <td>41.000000</td>\n",
       "    </tr>\n",
       "    <tr>\n",
       "      <th>max</th>\n",
       "      <td>766.000000</td>\n",
       "      <td>17.000000</td>\n",
       "      <td>199.000000</td>\n",
       "      <td>114.000000</td>\n",
       "      <td>99.000000</td>\n",
       "      <td>846.000000</td>\n",
       "      <td>59.400000</td>\n",
       "      <td>2.420000</td>\n",
       "      <td>81.000000</td>\n",
       "    </tr>\n",
       "  </tbody>\n",
       "</table>\n",
       "</div>"
      ],
      "text/plain": [
       "               id  Pregnancies     Glucose  BloodPressure  SkinThickness  \\\n",
       "count  614.000000   614.000000  614.000000     614.000000     614.000000   \n",
       "mean   386.978827     3.845277  120.705212      68.530945      20.982085   \n",
       "std    219.881344     3.388952   32.047977      19.761915      15.965031   \n",
       "min      0.000000     0.000000    0.000000       0.000000       0.000000   \n",
       "25%    196.500000     1.000000   99.000000      62.000000       0.000000   \n",
       "50%    388.000000     3.000000  117.000000      72.000000      23.000000   \n",
       "75%    575.750000     6.000000  140.000000      80.000000      33.000000   \n",
       "max    766.000000    17.000000  199.000000     114.000000      99.000000   \n",
       "\n",
       "          Insulin         BMI  DiabetesPedigreeFunction         Age  \n",
       "count  614.000000  614.000000                614.000000  614.000000  \n",
       "mean    82.229642   31.948534                  0.477471   33.319218  \n",
       "std    116.525772    7.734385                  0.339811   11.940953  \n",
       "min      0.000000    0.000000                  0.078000   21.000000  \n",
       "25%      0.000000   27.400000                  0.244250   24.000000  \n",
       "50%     44.000000   32.250000                  0.377000   29.000000  \n",
       "75%    130.000000   36.600000                  0.628500   41.000000  \n",
       "max    846.000000   59.400000                  2.420000   81.000000  "
      ]
     },
     "execution_count": 11,
     "metadata": {},
     "output_type": "execute_result"
    }
   ],
   "source": [
    "X_train.describe()"
   ]
  },
  {
   "cell_type": "code",
   "execution_count": 12,
   "id": "fd48f628",
   "metadata": {
    "execution": {
     "iopub.execute_input": "2022-05-30T17:18:51.573326Z",
     "iopub.status.busy": "2022-05-30T17:18:51.572610Z",
     "iopub.status.idle": "2022-05-30T17:18:51.591066Z",
     "shell.execute_reply": "2022-05-30T17:18:51.591900Z",
     "shell.execute_reply.started": "2022-05-30T17:17:24.388963Z"
    },
    "papermill": {
     "duration": 0.054113,
     "end_time": "2022-05-30T17:18:51.592098",
     "exception": false,
     "start_time": "2022-05-30T17:18:51.537985",
     "status": "completed"
    },
    "tags": []
   },
   "outputs": [
    {
     "data": {
      "text/plain": [
       "id   Pregnancies  Glucose  BloodPressure  SkinThickness  Insulin  BMI   DiabetesPedigreeFunction  Age\n",
       "0    6            148      72             35             0        33.6  0.627                     50     1\n",
       "514  3            99       54             19             86       25.6  0.154                     24     1\n",
       "504  3            96       78             39             0        37.3  0.238                     40     1\n",
       "506  0            180      90             26             90       36.5  0.314                     35     1\n",
       "507  1            130      60             23             170      28.6  0.692                     21     1\n",
       "                                                                                                        ..\n",
       "265  5            96       74             18             67       33.6  0.997                     43     1\n",
       "266  0            138      0              0              0        36.3  0.933                     25     1\n",
       "267  2            128      64             42             0        40.0  1.101                     24     1\n",
       "268  0            102      52             0              0        25.1  0.078                     21     1\n",
       "766  1            126      60             0              0        30.1  0.349                     47     1\n",
       "Length: 614, dtype: int64"
      ]
     },
     "execution_count": 12,
     "metadata": {},
     "output_type": "execute_result"
    }
   ],
   "source": [
    "X_train.value_counts()"
   ]
  },
  {
   "cell_type": "markdown",
   "id": "00460aa6",
   "metadata": {
    "papermill": {
     "duration": 0.029843,
     "end_time": "2022-05-30T17:18:51.652326",
     "exception": false,
     "start_time": "2022-05-30T17:18:51.622483",
     "status": "completed"
    },
    "tags": []
   },
   "source": [
    "## 데이터 전처리"
   ]
  },
  {
   "cell_type": "code",
   "execution_count": 13,
   "id": "a0f94c9c",
   "metadata": {
    "execution": {
     "iopub.execute_input": "2022-05-30T17:18:51.716010Z",
     "iopub.status.busy": "2022-05-30T17:18:51.715352Z",
     "iopub.status.idle": "2022-05-30T17:18:51.721215Z",
     "shell.execute_reply": "2022-05-30T17:18:51.721712Z",
     "shell.execute_reply.started": "2022-05-30T17:17:24.421338Z"
    },
    "papermill": {
     "duration": 0.039555,
     "end_time": "2022-05-30T17:18:51.721928",
     "exception": false,
     "start_time": "2022-05-30T17:18:51.682373",
     "status": "completed"
    },
    "tags": []
   },
   "outputs": [],
   "source": [
    "y_train=y_train.drop(columns=['id'])\n",
    "y_test=y_test.drop(columns=['id'])"
   ]
  },
  {
   "cell_type": "code",
   "execution_count": 14,
   "id": "eb164b5c",
   "metadata": {
    "execution": {
     "iopub.execute_input": "2022-05-30T17:18:51.790410Z",
     "iopub.status.busy": "2022-05-30T17:18:51.789638Z",
     "iopub.status.idle": "2022-05-30T17:18:51.801606Z",
     "shell.execute_reply": "2022-05-30T17:18:51.802165Z",
     "shell.execute_reply.started": "2022-05-30T17:17:24.451557Z"
    },
    "papermill": {
     "duration": 0.050356,
     "end_time": "2022-05-30T17:18:51.802349",
     "exception": false,
     "start_time": "2022-05-30T17:18:51.751993",
     "status": "completed"
    },
    "tags": []
   },
   "outputs": [
    {
     "name": "stdout",
     "output_type": "stream",
     "text": [
      "0    5\n",
      "Name: Glucose, dtype: int64\n",
      "0    31\n",
      "Name: BloodPressure, dtype: int64\n",
      "0    175\n",
      "Name: SkinThickness, dtype: int64\n",
      "0    287\n",
      "Name: Insulin, dtype: int64\n",
      "0.0    9\n",
      "Name: BMI, dtype: int64\n"
     ]
    }
   ],
   "source": [
    "# Train Data 이상값 확인\n",
    "print(X_train[X_train['Glucose'] == 0]['Glucose'].value_counts())\n",
    "print(X_train[X_train['BloodPressure'] == 0]['BloodPressure'].value_counts())\n",
    "print(X_train[X_train['SkinThickness'] == 0]['SkinThickness'].value_counts())\n",
    "print(X_train[X_train['Insulin'] == 0]['Insulin'].value_counts())\n",
    "print(X_train[X_train['BMI'] == 0]['BMI'].value_counts())"
   ]
  },
  {
   "cell_type": "code",
   "execution_count": 15,
   "id": "ba6a1ede",
   "metadata": {
    "execution": {
     "iopub.execute_input": "2022-05-30T17:18:51.866636Z",
     "iopub.status.busy": "2022-05-30T17:18:51.865940Z",
     "iopub.status.idle": "2022-05-30T17:18:51.880937Z",
     "shell.execute_reply": "2022-05-30T17:18:51.880359Z",
     "shell.execute_reply.started": "2022-05-30T17:17:24.491624Z"
    },
    "papermill": {
     "duration": 0.048162,
     "end_time": "2022-05-30T17:18:51.881103",
     "exception": false,
     "start_time": "2022-05-30T17:18:51.832941",
     "status": "completed"
    },
    "tags": []
   },
   "outputs": [
    {
     "name": "stdout",
     "output_type": "stream",
     "text": [
      "Series([], Name: Glucose, dtype: int64)\n",
      "0    4\n",
      "Name: BloodPressure, dtype: int64\n",
      "0    52\n",
      "Name: SkinThickness, dtype: int64\n",
      "0    87\n",
      "Name: Insulin, dtype: int64\n",
      "0.0    2\n",
      "Name: BMI, dtype: int64\n"
     ]
    }
   ],
   "source": [
    "# Test Data 이상값 확인\n",
    "print(X_test[X_test['Glucose'] == 0]['Glucose'].value_counts())\n",
    "print(X_test[X_test['BloodPressure'] == 0]['BloodPressure'].value_counts())\n",
    "print(X_test[X_test['SkinThickness'] == 0]['SkinThickness'].value_counts())\n",
    "print(X_test[X_test['Insulin'] == 0]['Insulin'].value_counts())\n",
    "print(X_test[X_test['BMI'] == 0]['BMI'].value_counts())"
   ]
  },
  {
   "cell_type": "code",
   "execution_count": 16,
   "id": "92566862",
   "metadata": {
    "execution": {
     "iopub.execute_input": "2022-05-30T17:18:51.946844Z",
     "iopub.status.busy": "2022-05-30T17:18:51.945855Z",
     "iopub.status.idle": "2022-05-30T17:18:51.956410Z",
     "shell.execute_reply": "2022-05-30T17:18:51.957083Z",
     "shell.execute_reply.started": "2022-05-30T17:17:24.531346Z"
    },
    "papermill": {
     "duration": 0.045296,
     "end_time": "2022-05-30T17:18:51.957270",
     "exception": false,
     "start_time": "2022-05-30T17:18:51.911974",
     "status": "completed"
    },
    "tags": []
   },
   "outputs": [
    {
     "name": "stdout",
     "output_type": "stream",
     "text": [
      "Int64Index([60, 49, 182, 494, 522, 145, 75, 426, 371, 342, 81, 706, 502, 349], dtype='int64') 14\n",
      "(614, 9) (614, 1)\n",
      "(600, 9) (600, 1)\n"
     ]
    }
   ],
   "source": [
    "# Train Data Glucose와 BMI 이상값 삭제\n",
    "del_idx = X_train[(X_train['Glucose'] == 0) | (X_train['BMI'] == 0)].index\n",
    "print(del_idx, len(del_idx))\n",
    "\n",
    "# 이상값 처리 전/후 Shape 비교\n",
    "print(X_train.shape, y_train.shape)\n",
    "X_train=X_train.drop(index=del_idx,\n",
    "             axis='index')\n",
    "y_train=y_train.drop(index=del_idx,\n",
    "             axis='index')\n",
    "print(X_train.shape, y_train.shape)"
   ]
  },
  {
   "cell_type": "code",
   "execution_count": 17,
   "id": "e5480193",
   "metadata": {
    "execution": {
     "iopub.execute_input": "2022-05-30T17:18:52.024432Z",
     "iopub.status.busy": "2022-05-30T17:18:52.023396Z",
     "iopub.status.idle": "2022-05-30T17:18:52.033199Z",
     "shell.execute_reply": "2022-05-30T17:18:52.033749Z",
     "shell.execute_reply.started": "2022-05-30T17:17:24.564882Z"
    },
    "papermill": {
     "duration": 0.045738,
     "end_time": "2022-05-30T17:18:52.033949",
     "exception": false,
     "start_time": "2022-05-30T17:18:51.988211",
     "status": "completed"
    },
    "tags": []
   },
   "outputs": [
    {
     "name": "stdout",
     "output_type": "stream",
     "text": [
      "Int64Index([9, 684], dtype='int64') 2\n",
      "(154, 9) (154, 1)\n",
      "(152, 9) (152, 1)\n"
     ]
    }
   ],
   "source": [
    "# Test Data BMI 이상값 삭제\n",
    "del_idx_t = X_test[(X_test['BMI'] == 0)].index\n",
    "print(del_idx_t, len(del_idx_t))\n",
    "\n",
    "# 이상값 처리 전/후 Shape 비교\n",
    "print(X_test.shape, y_test.shape)\n",
    "X_test=X_test.drop(index=del_idx_t,\n",
    "                   axis='index')\n",
    "y_test=y_test.drop(index=del_idx_t,\n",
    "                   axis='index')\n",
    "print(X_test.shape, y_test.shape)"
   ]
  },
  {
   "cell_type": "code",
   "execution_count": 18,
   "id": "c45842fe",
   "metadata": {
    "execution": {
     "iopub.execute_input": "2022-05-30T17:18:52.101948Z",
     "iopub.status.busy": "2022-05-30T17:18:52.100885Z",
     "iopub.status.idle": "2022-05-30T17:18:52.129454Z",
     "shell.execute_reply": "2022-05-30T17:18:52.129998Z",
     "shell.execute_reply.started": "2022-05-30T17:17:24.601307Z"
    },
    "papermill": {
     "duration": 0.064295,
     "end_time": "2022-05-30T17:18:52.130177",
     "exception": false,
     "start_time": "2022-05-30T17:18:52.065882",
     "status": "completed"
    },
    "tags": []
   },
   "outputs": [
    {
     "data": {
      "text/html": [
       "<div>\n",
       "<style scoped>\n",
       "    .dataframe tbody tr th:only-of-type {\n",
       "        vertical-align: middle;\n",
       "    }\n",
       "\n",
       "    .dataframe tbody tr th {\n",
       "        vertical-align: top;\n",
       "    }\n",
       "\n",
       "    .dataframe thead th {\n",
       "        text-align: right;\n",
       "    }\n",
       "</style>\n",
       "<table border=\"1\" class=\"dataframe\">\n",
       "  <thead>\n",
       "    <tr style=\"text-align: right;\">\n",
       "      <th></th>\n",
       "      <th>id</th>\n",
       "      <th>Pregnancies</th>\n",
       "      <th>Glucose</th>\n",
       "      <th>BloodPressure</th>\n",
       "      <th>SkinThickness</th>\n",
       "      <th>Insulin</th>\n",
       "      <th>BMI</th>\n",
       "      <th>DiabetesPedigreeFunction</th>\n",
       "      <th>Age</th>\n",
       "    </tr>\n",
       "  </thead>\n",
       "  <tbody>\n",
       "    <tr>\n",
       "      <th>147</th>\n",
       "      <td>147</td>\n",
       "      <td>2</td>\n",
       "      <td>106</td>\n",
       "      <td>64.0</td>\n",
       "      <td>35.000000</td>\n",
       "      <td>119.000000</td>\n",
       "      <td>30.5</td>\n",
       "      <td>1.400</td>\n",
       "      <td>34</td>\n",
       "    </tr>\n",
       "    <tr>\n",
       "      <th>344</th>\n",
       "      <td>344</td>\n",
       "      <td>8</td>\n",
       "      <td>95</td>\n",
       "      <td>72.0</td>\n",
       "      <td>21.148333</td>\n",
       "      <td>83.961667</td>\n",
       "      <td>36.8</td>\n",
       "      <td>0.485</td>\n",
       "      <td>57</td>\n",
       "    </tr>\n",
       "    <tr>\n",
       "      <th>390</th>\n",
       "      <td>390</td>\n",
       "      <td>1</td>\n",
       "      <td>100</td>\n",
       "      <td>66.0</td>\n",
       "      <td>29.000000</td>\n",
       "      <td>196.000000</td>\n",
       "      <td>32.0</td>\n",
       "      <td>0.444</td>\n",
       "      <td>42</td>\n",
       "    </tr>\n",
       "    <tr>\n",
       "      <th>150</th>\n",
       "      <td>150</td>\n",
       "      <td>1</td>\n",
       "      <td>136</td>\n",
       "      <td>74.0</td>\n",
       "      <td>50.000000</td>\n",
       "      <td>204.000000</td>\n",
       "      <td>37.4</td>\n",
       "      <td>0.399</td>\n",
       "      <td>24</td>\n",
       "    </tr>\n",
       "    <tr>\n",
       "      <th>132</th>\n",
       "      <td>132</td>\n",
       "      <td>3</td>\n",
       "      <td>170</td>\n",
       "      <td>64.0</td>\n",
       "      <td>37.000000</td>\n",
       "      <td>225.000000</td>\n",
       "      <td>34.5</td>\n",
       "      <td>0.356</td>\n",
       "      <td>30</td>\n",
       "    </tr>\n",
       "    <tr>\n",
       "      <th>124</th>\n",
       "      <td>124</td>\n",
       "      <td>0</td>\n",
       "      <td>113</td>\n",
       "      <td>76.0</td>\n",
       "      <td>21.148333</td>\n",
       "      <td>83.961667</td>\n",
       "      <td>33.3</td>\n",
       "      <td>0.278</td>\n",
       "      <td>23</td>\n",
       "    </tr>\n",
       "    <tr>\n",
       "      <th>605</th>\n",
       "      <td>605</td>\n",
       "      <td>1</td>\n",
       "      <td>124</td>\n",
       "      <td>60.0</td>\n",
       "      <td>32.000000</td>\n",
       "      <td>83.961667</td>\n",
       "      <td>35.8</td>\n",
       "      <td>0.514</td>\n",
       "      <td>21</td>\n",
       "    </tr>\n",
       "    <tr>\n",
       "      <th>443</th>\n",
       "      <td>443</td>\n",
       "      <td>8</td>\n",
       "      <td>108</td>\n",
       "      <td>70.0</td>\n",
       "      <td>21.148333</td>\n",
       "      <td>83.961667</td>\n",
       "      <td>30.5</td>\n",
       "      <td>0.955</td>\n",
       "      <td>33</td>\n",
       "    </tr>\n",
       "    <tr>\n",
       "      <th>327</th>\n",
       "      <td>327</td>\n",
       "      <td>10</td>\n",
       "      <td>179</td>\n",
       "      <td>70.0</td>\n",
       "      <td>21.148333</td>\n",
       "      <td>83.961667</td>\n",
       "      <td>35.1</td>\n",
       "      <td>0.200</td>\n",
       "      <td>37</td>\n",
       "    </tr>\n",
       "    <tr>\n",
       "      <th>235</th>\n",
       "      <td>235</td>\n",
       "      <td>4</td>\n",
       "      <td>171</td>\n",
       "      <td>72.0</td>\n",
       "      <td>21.148333</td>\n",
       "      <td>83.961667</td>\n",
       "      <td>43.6</td>\n",
       "      <td>0.479</td>\n",
       "      <td>26</td>\n",
       "    </tr>\n",
       "    <tr>\n",
       "      <th>674</th>\n",
       "      <td>674</td>\n",
       "      <td>8</td>\n",
       "      <td>91</td>\n",
       "      <td>82.0</td>\n",
       "      <td>21.148333</td>\n",
       "      <td>83.961667</td>\n",
       "      <td>35.6</td>\n",
       "      <td>0.587</td>\n",
       "      <td>68</td>\n",
       "    </tr>\n",
       "    <tr>\n",
       "      <th>340</th>\n",
       "      <td>340</td>\n",
       "      <td>1</td>\n",
       "      <td>130</td>\n",
       "      <td>70.0</td>\n",
       "      <td>13.000000</td>\n",
       "      <td>105.000000</td>\n",
       "      <td>25.9</td>\n",
       "      <td>0.472</td>\n",
       "      <td>22</td>\n",
       "    </tr>\n",
       "    <tr>\n",
       "      <th>423</th>\n",
       "      <td>423</td>\n",
       "      <td>2</td>\n",
       "      <td>115</td>\n",
       "      <td>64.0</td>\n",
       "      <td>22.000000</td>\n",
       "      <td>83.961667</td>\n",
       "      <td>30.8</td>\n",
       "      <td>0.421</td>\n",
       "      <td>21</td>\n",
       "    </tr>\n",
       "    <tr>\n",
       "      <th>485</th>\n",
       "      <td>485</td>\n",
       "      <td>0</td>\n",
       "      <td>135</td>\n",
       "      <td>68.0</td>\n",
       "      <td>42.000000</td>\n",
       "      <td>250.000000</td>\n",
       "      <td>42.3</td>\n",
       "      <td>0.365</td>\n",
       "      <td>24</td>\n",
       "    </tr>\n",
       "    <tr>\n",
       "      <th>493</th>\n",
       "      <td>493</td>\n",
       "      <td>4</td>\n",
       "      <td>125</td>\n",
       "      <td>70.0</td>\n",
       "      <td>18.000000</td>\n",
       "      <td>122.000000</td>\n",
       "      <td>28.9</td>\n",
       "      <td>1.144</td>\n",
       "      <td>45</td>\n",
       "    </tr>\n",
       "    <tr>\n",
       "      <th>208</th>\n",
       "      <td>208</td>\n",
       "      <td>1</td>\n",
       "      <td>96</td>\n",
       "      <td>64.0</td>\n",
       "      <td>27.000000</td>\n",
       "      <td>87.000000</td>\n",
       "      <td>33.2</td>\n",
       "      <td>0.289</td>\n",
       "      <td>21</td>\n",
       "    </tr>\n",
       "    <tr>\n",
       "      <th>400</th>\n",
       "      <td>400</td>\n",
       "      <td>4</td>\n",
       "      <td>95</td>\n",
       "      <td>64.0</td>\n",
       "      <td>21.148333</td>\n",
       "      <td>83.961667</td>\n",
       "      <td>32.0</td>\n",
       "      <td>0.161</td>\n",
       "      <td>31</td>\n",
       "    </tr>\n",
       "    <tr>\n",
       "      <th>433</th>\n",
       "      <td>433</td>\n",
       "      <td>2</td>\n",
       "      <td>139</td>\n",
       "      <td>75.0</td>\n",
       "      <td>21.148333</td>\n",
       "      <td>83.961667</td>\n",
       "      <td>25.6</td>\n",
       "      <td>0.167</td>\n",
       "      <td>29</td>\n",
       "    </tr>\n",
       "    <tr>\n",
       "      <th>325</th>\n",
       "      <td>325</td>\n",
       "      <td>1</td>\n",
       "      <td>157</td>\n",
       "      <td>72.0</td>\n",
       "      <td>21.000000</td>\n",
       "      <td>168.000000</td>\n",
       "      <td>25.6</td>\n",
       "      <td>0.123</td>\n",
       "      <td>24</td>\n",
       "    </tr>\n",
       "    <tr>\n",
       "      <th>247</th>\n",
       "      <td>247</td>\n",
       "      <td>0</td>\n",
       "      <td>165</td>\n",
       "      <td>90.0</td>\n",
       "      <td>33.000000</td>\n",
       "      <td>680.000000</td>\n",
       "      <td>52.3</td>\n",
       "      <td>0.427</td>\n",
       "      <td>23</td>\n",
       "    </tr>\n",
       "  </tbody>\n",
       "</table>\n",
       "</div>"
      ],
      "text/plain": [
       "      id  Pregnancies  Glucose  BloodPressure  SkinThickness     Insulin  \\\n",
       "147  147            2      106           64.0      35.000000  119.000000   \n",
       "344  344            8       95           72.0      21.148333   83.961667   \n",
       "390  390            1      100           66.0      29.000000  196.000000   \n",
       "150  150            1      136           74.0      50.000000  204.000000   \n",
       "132  132            3      170           64.0      37.000000  225.000000   \n",
       "124  124            0      113           76.0      21.148333   83.961667   \n",
       "605  605            1      124           60.0      32.000000   83.961667   \n",
       "443  443            8      108           70.0      21.148333   83.961667   \n",
       "327  327           10      179           70.0      21.148333   83.961667   \n",
       "235  235            4      171           72.0      21.148333   83.961667   \n",
       "674  674            8       91           82.0      21.148333   83.961667   \n",
       "340  340            1      130           70.0      13.000000  105.000000   \n",
       "423  423            2      115           64.0      22.000000   83.961667   \n",
       "485  485            0      135           68.0      42.000000  250.000000   \n",
       "493  493            4      125           70.0      18.000000  122.000000   \n",
       "208  208            1       96           64.0      27.000000   87.000000   \n",
       "400  400            4       95           64.0      21.148333   83.961667   \n",
       "433  433            2      139           75.0      21.148333   83.961667   \n",
       "325  325            1      157           72.0      21.000000  168.000000   \n",
       "247  247            0      165           90.0      33.000000  680.000000   \n",
       "\n",
       "      BMI  DiabetesPedigreeFunction  Age  \n",
       "147  30.5                     1.400   34  \n",
       "344  36.8                     0.485   57  \n",
       "390  32.0                     0.444   42  \n",
       "150  37.4                     0.399   24  \n",
       "132  34.5                     0.356   30  \n",
       "124  33.3                     0.278   23  \n",
       "605  35.8                     0.514   21  \n",
       "443  30.5                     0.955   33  \n",
       "327  35.1                     0.200   37  \n",
       "235  43.6                     0.479   26  \n",
       "674  35.6                     0.587   68  \n",
       "340  25.9                     0.472   22  \n",
       "423  30.8                     0.421   21  \n",
       "485  42.3                     0.365   24  \n",
       "493  28.9                     1.144   45  \n",
       "208  33.2                     0.289   21  \n",
       "400  32.0                     0.161   31  \n",
       "433  25.6                     0.167   29  \n",
       "325  25.6                     0.123   24  \n",
       "247  52.3                     0.427   23  "
      ]
     },
     "execution_count": 18,
     "metadata": {},
     "output_type": "execute_result"
    }
   ],
   "source": [
    "# 나머지 이상값 대체 (평균)\n",
    "cols = ['BloodPressure', 'SkinThickness',\n",
    "        'Insulin']\n",
    "cols_mean = X_train[cols].mean()\n",
    "X_train=X_train.replace(0, cols_mean)\n",
    "X_test=X_test.replace(0, cols_mean)\n",
    "X_train.head(20)"
   ]
  },
  {
   "cell_type": "code",
   "execution_count": 19,
   "id": "1d1df158",
   "metadata": {
    "execution": {
     "iopub.execute_input": "2022-05-30T17:18:52.198789Z",
     "iopub.status.busy": "2022-05-30T17:18:52.197698Z",
     "iopub.status.idle": "2022-05-30T17:18:52.208520Z",
     "shell.execute_reply": "2022-05-30T17:18:52.209082Z",
     "shell.execute_reply.started": "2022-05-30T17:17:24.636259Z"
    },
    "papermill": {
     "duration": 0.046809,
     "end_time": "2022-05-30T17:18:52.209258",
     "exception": false,
     "start_time": "2022-05-30T17:18:52.162449",
     "status": "completed"
    },
    "tags": []
   },
   "outputs": [],
   "source": [
    "# 데이터 정규화\n",
    "from sklearn.preprocessing import MinMaxScaler\n",
    "scaler=MinMaxScaler()\n",
    "scaler.fit(X_train)\n",
    "mm_X_train=scaler.transform(X_train)\n",
    "mm_X_test=scaler.transform(X_test)"
   ]
  },
  {
   "cell_type": "markdown",
   "id": "957ff4f7",
   "metadata": {
    "papermill": {
     "duration": 0.031895,
     "end_time": "2022-05-30T17:18:52.274189",
     "exception": false,
     "start_time": "2022-05-30T17:18:52.242294",
     "status": "completed"
    },
    "tags": []
   },
   "source": [
    "## 모델 적용"
   ]
  },
  {
   "cell_type": "code",
   "execution_count": 20,
   "id": "01f8456a",
   "metadata": {
    "execution": {
     "iopub.execute_input": "2022-05-30T17:18:52.344078Z",
     "iopub.status.busy": "2022-05-30T17:18:52.341478Z",
     "iopub.status.idle": "2022-05-30T17:18:53.725277Z",
     "shell.execute_reply": "2022-05-30T17:18:53.724680Z",
     "shell.execute_reply.started": "2022-05-30T17:17:24.647139Z"
    },
    "papermill": {
     "duration": 1.418956,
     "end_time": "2022-05-30T17:18:53.725421",
     "exception": false,
     "start_time": "2022-05-30T17:18:52.306465",
     "status": "completed"
    },
    "tags": []
   },
   "outputs": [
    {
     "name": "stderr",
     "output_type": "stream",
     "text": [
      "/opt/conda/lib/python3.7/site-packages/ipykernel_launcher.py:4: DataConversionWarning: A column-vector y was passed when a 1d array was expected. Please change the shape of y to (n_samples,), for example using ravel().\n",
      "  after removing the cwd from sys.path.\n"
     ]
    }
   ],
   "source": [
    "# Random Forest \n",
    "from sklearn.ensemble import RandomForestClassifier\n",
    "model=RandomForestClassifier(max_depth=40, n_estimators=400)\n",
    "model.fit(mm_X_train, y_train)\n",
    "pred_train=model.predict(mm_X_train)"
   ]
  },
  {
   "cell_type": "code",
   "execution_count": 21,
   "id": "e3568881",
   "metadata": {
    "execution": {
     "iopub.execute_input": "2022-05-30T17:18:53.796380Z",
     "iopub.status.busy": "2022-05-30T17:18:53.795674Z",
     "iopub.status.idle": "2022-05-30T17:18:53.865527Z",
     "shell.execute_reply": "2022-05-30T17:18:53.864795Z",
     "shell.execute_reply.started": "2022-05-30T17:17:25.718091Z"
    },
    "papermill": {
     "duration": 0.107267,
     "end_time": "2022-05-30T17:18:53.865685",
     "exception": false,
     "start_time": "2022-05-30T17:18:53.758418",
     "status": "completed"
    },
    "tags": []
   },
   "outputs": [
    {
     "data": {
      "text/plain": [
       "1.0"
      ]
     },
     "execution_count": 21,
     "metadata": {},
     "output_type": "execute_result"
    }
   ],
   "source": [
    "model.score(mm_X_train, y_train)\n",
    "# 과대적합"
   ]
  },
  {
   "cell_type": "code",
   "execution_count": 22,
   "id": "d65e1b86",
   "metadata": {
    "execution": {
     "iopub.execute_input": "2022-05-30T17:18:53.935565Z",
     "iopub.status.busy": "2022-05-30T17:18:53.934524Z",
     "iopub.status.idle": "2022-05-30T17:18:54.029668Z",
     "shell.execute_reply": "2022-05-30T17:18:54.030259Z",
     "shell.execute_reply.started": "2022-05-30T17:17:25.794943Z"
    },
    "papermill": {
     "duration": 0.131989,
     "end_time": "2022-05-30T17:18:54.030444",
     "exception": false,
     "start_time": "2022-05-30T17:18:53.898455",
     "status": "completed"
    },
    "tags": []
   },
   "outputs": [
    {
     "name": "stdout",
     "output_type": "stream",
     "text": [
      "0.7916666666666666\n"
     ]
    },
    {
     "name": "stderr",
     "output_type": "stream",
     "text": [
      "/opt/conda/lib/python3.7/site-packages/sklearn/utils/validation.py:72: DataConversionWarning: A column-vector y was passed when a 1d array was expected. Please change the shape of y to (n_samples, ), for example using ravel().\n",
      "  return f(**kwargs)\n"
     ]
    }
   ],
   "source": [
    "from sklearn.svm import SVC\n",
    "model2=SVC()\n",
    "model2.fit(mm_X_train, y_train)\n",
    "pred_X=model.predict(mm_X_train)\n",
    "print(model2.score(mm_X_train, y_train))"
   ]
  },
  {
   "cell_type": "code",
   "execution_count": 23,
   "id": "f87cbb92",
   "metadata": {
    "execution": {
     "iopub.execute_input": "2022-05-30T17:18:54.101744Z",
     "iopub.status.busy": "2022-05-30T17:18:54.100746Z",
     "iopub.status.idle": "2022-05-30T17:18:54.110322Z",
     "shell.execute_reply": "2022-05-30T17:18:54.110775Z",
     "shell.execute_reply.started": "2022-05-30T17:17:25.881245Z"
    },
    "papermill": {
     "duration": 0.046617,
     "end_time": "2022-05-30T17:18:54.110979",
     "exception": false,
     "start_time": "2022-05-30T17:18:54.064362",
     "status": "completed"
    },
    "tags": []
   },
   "outputs": [
    {
     "name": "stdout",
     "output_type": "stream",
     "text": [
      "0.7631578947368421\n"
     ]
    }
   ],
   "source": [
    "pred_test=model2.predict(mm_X_test)\n",
    "print(model2.score(mm_X_test, y_test))"
   ]
  },
  {
   "cell_type": "markdown",
   "id": "8d6d551b",
   "metadata": {
    "papermill": {
     "duration": 0.033625,
     "end_time": "2022-05-30T17:18:54.178240",
     "exception": false,
     "start_time": "2022-05-30T17:18:54.144615",
     "status": "completed"
    },
    "tags": []
   },
   "source": [
    "## 답안 제출"
   ]
  },
  {
   "cell_type": "code",
   "execution_count": 24,
   "id": "9e15c331",
   "metadata": {
    "execution": {
     "iopub.execute_input": "2022-05-30T17:18:54.255849Z",
     "iopub.status.busy": "2022-05-30T17:18:54.255180Z",
     "iopub.status.idle": "2022-05-30T17:18:54.257979Z",
     "shell.execute_reply": "2022-05-30T17:18:54.258604Z",
     "shell.execute_reply.started": "2022-05-30T17:17:25.891728Z"
    },
    "papermill": {
     "duration": 0.046812,
     "end_time": "2022-05-30T17:18:54.258772",
     "exception": false,
     "start_time": "2022-05-30T17:18:54.211960",
     "status": "completed"
    },
    "tags": []
   },
   "outputs": [
    {
     "data": {
      "text/html": [
       "<div>\n",
       "<style scoped>\n",
       "    .dataframe tbody tr th:only-of-type {\n",
       "        vertical-align: middle;\n",
       "    }\n",
       "\n",
       "    .dataframe tbody tr th {\n",
       "        vertical-align: top;\n",
       "    }\n",
       "\n",
       "    .dataframe thead th {\n",
       "        text-align: right;\n",
       "    }\n",
       "</style>\n",
       "<table border=\"1\" class=\"dataframe\">\n",
       "  <thead>\n",
       "    <tr style=\"text-align: right;\">\n",
       "      <th></th>\n",
       "      <th>id</th>\n",
       "      <th>Outcome</th>\n",
       "    </tr>\n",
       "  </thead>\n",
       "  <tbody>\n",
       "    <tr>\n",
       "      <th>0</th>\n",
       "      <td>258</td>\n",
       "      <td>1</td>\n",
       "    </tr>\n",
       "    <tr>\n",
       "      <th>1</th>\n",
       "      <td>220</td>\n",
       "      <td>1</td>\n",
       "    </tr>\n",
       "    <tr>\n",
       "      <th>2</th>\n",
       "      <td>438</td>\n",
       "      <td>0</td>\n",
       "    </tr>\n",
       "    <tr>\n",
       "      <th>3</th>\n",
       "      <td>130</td>\n",
       "      <td>1</td>\n",
       "    </tr>\n",
       "    <tr>\n",
       "      <th>4</th>\n",
       "      <td>730</td>\n",
       "      <td>0</td>\n",
       "    </tr>\n",
       "  </tbody>\n",
       "</table>\n",
       "</div>"
      ],
      "text/plain": [
       "    id  Outcome\n",
       "0  258        1\n",
       "1  220        1\n",
       "2  438        0\n",
       "3  130        1\n",
       "4  730        0"
      ]
     },
     "execution_count": 24,
     "metadata": {},
     "output_type": "execute_result"
    }
   ],
   "source": [
    "output=pd.DataFrame({'id':X_test.index, 'Outcome':pred_test})\n",
    "output.head()"
   ]
  },
  {
   "cell_type": "code",
   "execution_count": 25,
   "id": "7fde7e56",
   "metadata": {
    "execution": {
     "iopub.execute_input": "2022-05-30T17:18:54.331108Z",
     "iopub.status.busy": "2022-05-30T17:18:54.330425Z",
     "iopub.status.idle": "2022-05-30T17:18:54.336730Z",
     "shell.execute_reply": "2022-05-30T17:18:54.337362Z",
     "shell.execute_reply.started": "2022-05-30T17:17:25.904187Z"
    },
    "papermill": {
     "duration": 0.044626,
     "end_time": "2022-05-30T17:18:54.337542",
     "exception": false,
     "start_time": "2022-05-30T17:18:54.292916",
     "status": "completed"
    },
    "tags": []
   },
   "outputs": [],
   "source": [
    "# 수험번호.csv로 출력⁹\n",
    "output.to_csv('1234567.csv', index=False)"
   ]
  },
  {
   "cell_type": "markdown",
   "id": "5326efea",
   "metadata": {
    "papermill": {
     "duration": 0.034151,
     "end_time": "2022-05-30T17:18:54.407151",
     "exception": false,
     "start_time": "2022-05-30T17:18:54.373000",
     "status": "completed"
    },
    "tags": []
   },
   "source": [
    "## 결과 체점 (수험자는 알 수 없는 부분임)"
   ]
  },
  {
   "cell_type": "code",
   "execution_count": 26,
   "id": "e8287278",
   "metadata": {
    "execution": {
     "iopub.execute_input": "2022-05-30T17:18:54.482359Z",
     "iopub.status.busy": "2022-05-30T17:18:54.481421Z",
     "iopub.status.idle": "2022-05-30T17:18:54.487884Z",
     "shell.execute_reply": "2022-05-30T17:18:54.488494Z",
     "shell.execute_reply.started": "2022-05-30T17:17:25.912122Z"
    },
    "papermill": {
     "duration": 0.047046,
     "end_time": "2022-05-30T17:18:54.488666",
     "exception": false,
     "start_time": "2022-05-30T17:18:54.441620",
     "status": "completed"
    },
    "tags": []
   },
   "outputs": [
    {
     "data": {
      "text/plain": [
       "76.32"
      ]
     },
     "execution_count": 26,
     "metadata": {},
     "output_type": "execute_result"
    }
   ],
   "source": [
    "round(model2.score(mm_X_test, y_test['Outcome']) * 100, 2)"
   ]
  }
 ],
 "metadata": {
  "kernelspec": {
   "display_name": "Python 3",
   "language": "python",
   "name": "python3"
  },
  "language_info": {
   "codemirror_mode": {
    "name": "ipython",
    "version": 3
   },
   "file_extension": ".py",
   "mimetype": "text/x-python",
   "name": "python",
   "nbconvert_exporter": "python",
   "pygments_lexer": "ipython3",
   "version": "3.7.10"
  },
  "papermill": {
   "default_parameters": {},
   "duration": 15.583036,
   "end_time": "2022-05-30T17:18:55.235880",
   "environment_variables": {},
   "exception": null,
   "input_path": "__notebook__.ipynb",
   "output_path": "__notebook__.ipynb",
   "parameters": {},
   "start_time": "2022-05-30T17:18:39.652844",
   "version": "2.3.3"
  }
 },
 "nbformat": 4,
 "nbformat_minor": 5
}
